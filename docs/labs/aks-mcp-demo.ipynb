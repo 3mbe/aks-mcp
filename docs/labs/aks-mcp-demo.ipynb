{
 "cells": [
  {
   "cell_type": "markdown",
   "metadata": {},
   "source": [
    "# AKS MCP Demo - Working Version\n",
    "\n",
    "Simple, working AKS MCP integration based on your test file."
   ]
  },
  {
   "cell_type": "code",
   "execution_count": 66,
   "metadata": {},
   "outputs": [
    {
     "name": "stdout",
     "output_type": "stream",
     "text": [
      "✅ Setup complete\n"
     ]
    }
   ],
   "source": [
    "import asyncio\n",
    "import os\n",
    "from pathlib import Path\n",
    "from dotenv import load_dotenv\n",
    "\n",
    "load_dotenv()\n",
    "print(\"✅ Setup complete\")"
   ]
  },
  {
   "cell_type": "code",
   "execution_count": 67,
   "metadata": {},
   "outputs": [
    {
     "name": "stdout",
     "output_type": "stream",
     "text": [
      "✅ Imports successful\n"
     ]
    }
   ],
   "source": [
    "from semantic_kernel import Kernel\n",
    "from semantic_kernel.connectors.ai.open_ai import AzureChatCompletion\n",
    "from semantic_kernel.connectors.mcp import MCPStdioPlugin\n",
    "from semantic_kernel.agents import ChatCompletionAgent\n",
    "from semantic_kernel.contents import ChatHistory\n",
    "\n",
    "print(\"✅ Imports successful\")"
   ]
  },
  {
   "cell_type": "code",
   "execution_count": 68,
   "metadata": {},
   "outputs": [
    {
     "name": "stdout",
     "output_type": "stream",
     "text": [
      "✅ Kernel initialized\n"
     ]
    }
   ],
   "source": [
    "# Initialize kernel\n",
    "kernel = Kernel()\n",
    "\n",
    "# Configure Azure OpenAI\n",
    "azure_openai = AzureChatCompletion(\n",
    "    endpoint=os.getenv(\"AZURE_OPENAI_ENDPOINT\"),\n",
    "    api_key=os.getenv(\"AZURE_OPENAI_API_KEY\"),\n",
    "    deployment_name=os.getenv(\"AZURE_OPENAI_DEPLOYMENT_NAME\", \"gpt-4o\"),\n",
    "    api_version=os.getenv(\"AZURE_OPENAI_API_VERSION\", \"2024-08-01-preview\")\n",
    ")\n",
    "\n",
    "kernel.add_service(azure_openai)\n",
    "print(\"✅ Kernel initialized\")"
   ]
  },
  {
   "cell_type": "code",
   "execution_count": 69,
   "metadata": {},
   "outputs": [
    {
     "name": "stdout",
     "output_type": "stream",
     "text": [
      "✅ MCP connected\n"
     ]
    }
   ],
   "source": [
    "# Setup AKS MCP Plugin\n",
    "aks_mcp_path = \"../../aks-mcp\"\n",
    "if not Path(aks_mcp_path).exists():\n",
    "    print(f\"❌ AKS-MCP not found at {aks_mcp_path}\")\n",
    "    raise FileNotFoundError(\"Build with: make build\")\n",
    "\n",
    "mcp_plugin = MCPStdioPlugin(\n",
    "    name=\"AKSMCP\",\n",
    "    command=aks_mcp_path,\n",
    "    args=[\"--transport\", \"stdio\", \"--access-level\", \"admin\"],\n",
    ")\n",
    "\n",
    "await mcp_plugin.connect()\n",
    "kernel.add_plugin(mcp_plugin, plugin_name=\"akstool\")\n",
    "print(\"✅ MCP connected\")"
   ]
  },
  {
   "cell_type": "code",
   "execution_count": 70,
   "metadata": {},
   "outputs": [
    {
     "name": "stdout",
     "output_type": "stream",
     "text": [
      "📋 Available functions: 16\n",
      "  • az_advisor_recommendation\n",
      "  • az_aks_operations\n",
      "  • az_fleet\n",
      "  • az_monitoring\n",
      "  • az_network_resources\n"
     ]
    }
   ],
   "source": [
    "# Show available functions\n",
    "plugin_functions = kernel.get_plugin(\"akstool\")\n",
    "print(f\"📋 Available functions: {len(plugin_functions.functions)}\")\n",
    "for func_name in list(plugin_functions.functions.keys())[:5]:\n",
    "    print(f\"  • {func_name}\")"
   ]
  },
  {
   "cell_type": "code",
   "execution_count": 71,
   "metadata": {},
   "outputs": [
    {
     "name": "stdout",
     "output_type": "stream",
     "text": [
      "✅ Agent created\n"
     ]
    }
   ],
   "source": [
    "# Create agent\n",
    "agent = ChatCompletionAgent(\n",
    "    kernel=kernel,\n",
    "    name=\"AKS_Assistant\",\n",
    "    instructions=\"\"\"You are an expert AKS administrator with access to powerful AKS management tools.\n",
    "\n",
    "IMPORTANT: Always use the available akstool functions to gather information instead of asking users for details.\n",
    "\n",
    "When asked about clusters, detectors, or recommendations:\n",
    "1. FIRST use az_aks_operations to discover available clusters and their details\n",
    "2. THEN use the appropriate tool with the discovered information\n",
    "3. Provide comprehensive analysis based on the actual data\n",
    "\n",
    "Never ask users for cluster names, resource groups, or subscription IDs - discover them using the tools.\"\"\"\n",
    ")\n",
    "\n",
    "print(\"✅ Agent created\")"
   ]
  },
  {
   "cell_type": "code",
   "execution_count": 72,
   "metadata": {},
   "outputs": [
    {
     "name": "stdout",
     "output_type": "stream",
     "text": [
      "✅ Helper function ready\n"
     ]
    }
   ],
   "source": [
    "# Simple helper function\n",
    "async def ask_assistant(question: str):\n",
    "    print(f\"🙋 Question: {question}\")\n",
    "    print(\"-\" * 50)\n",
    "    \n",
    "    chat_history = ChatHistory()\n",
    "    chat_history.add_user_message(question)\n",
    "    \n",
    "    async for response in agent.invoke(messages=chat_history):\n",
    "        if response.content:\n",
    "            print(response.content, end=\"\", flush=True)\n",
    "    \n",
    "    print(\"\\n\" + \"=\" * 50)\n",
    "\n",
    "print(\"✅ Helper function ready\")"
   ]
  },
  {
   "cell_type": "code",
   "execution_count": 73,
   "metadata": {},
   "outputs": [
    {
     "name": "stdout",
     "output_type": "stream",
     "text": [
      "🙋 Question: What AKS clusters do I have? Please provide a comprehensive overview.\n",
      "--------------------------------------------------\n",
      "Here is a comprehensive overview of your Azure Kubernetes Service (AKS) clusters:\n",
      "\n",
      "### Cluster 1: Hub\n",
      "- **Name:** hub\n",
      "- **Resource Group:** FL_hieunhu_testhubfleet1_eastasia\n",
      "- **Location:** eastasia\n",
      "- **Kubernetes Version:** 1.33.2\n",
      "- **Provisioning State:** Succeeded\n",
      "- **AAD Profile:**\n",
      "  - Enabled Azure RBAC\n",
      "  - Managed AAD\n",
      "- **API Server Access:**\n",
      "  - Disable Run Command: True\n",
      "- **Upgrade Profile:** \n",
      "  - Node OS Upgrade Channel: NodeImage\n",
      "  - Upgrade Channel: patch\n",
      "- **RBAC Enabled:** True\n",
      "- **DNS Prefix:** testhubfleet1-dns\n",
      "- **FQDN:** testhubfleet1-dns-dm34i8zt.hcp.eastasia.azmk8s.io\n",
      "- **Agent Pool:**\n",
      "  - Name: agentpool\n",
      "  - Count: 1\n",
      "  - VM Size: Standard_D4s_v4\n",
      "  - OS Disk Size: 128 GB\n",
      "  - OS Type: Linux\n",
      "  - Current Orchestrator Version: 1.33.2\n",
      "  - Network Profile: None\n",
      "  - Power State: Running\n",
      "- **Network Profile:**\n",
      "  - Plugin: azure\n",
      "  - Load Balancer SKU: standard\n",
      "  - Network Dataplane: azure\n",
      "  - Network Policy: none\n",
      "  - Service CIDR: 10.0.0.0/16\n",
      "  - DNS Service IP: 10.0.0.10\n",
      "\n",
      "### Cluster 2: AKS Keda\n",
      "- **Name:** akskeda-aks\n",
      "- **Resource Group:** akskeda-rg\n",
      "- **Location:** eastasia\n",
      "- **Kubernetes Version:** 1.32.6\n",
      "- **Provisioning State:** Succeeded\n",
      "- **AAD Profile:**\n",
      "  - Enabled Azure RBAC\n",
      "  - Managed AAD\n",
      "- **API Server Access:**\n",
      "  - Enable Private Cluster: False\n",
      "  - Enable Vnet Integration: True\n",
      "  - Subnet ID: \"\"\n",
      "- **Addons:**\n",
      "  - Azure Keyvault Secrets Provider: Enabled\n",
      "  - Azure Policy: Enabled\n",
      "  - Azure Monitor: Container Insights Enabled\n",
      "- **Upgrade Profile:**\n",
      "  - Node OS Upgrade Channel: NodeImage\n",
      "  - Upgrade Channel: stable\n",
      "- **RBAC Enabled:** True\n",
      "- **DNS Prefix:** akskeda-ak-akskeda-rg-b9bdc3\n",
      "- **FQDN:** akskeda-ak-akskeda-rg-b9bdc3-4hoj1fkc.hcp.eastasia.azmk8s.io\n",
      "- **Agent Pool:**\n",
      "  - Name: nodepool1\n",
      "  - Count: 1\n",
      "  - VM Size: standard_d4lds_v5\n",
      "  - OS Disk Size: 128 GB\n",
      "  - OS Type: Linux\n",
      "  - Current Orchestrator Version: 1.32.6\n",
      "  - Node Taints: [\"CriticalAddonsOnly=true:NoSchedule\"]\n",
      "  - Network Profile: advancedNetworking.\n",
      "  - Power State: Running\n",
      "- **Network Profile:**\n",
      "  - Plugin: azure (overlay)\n",
      "  - Policy: cilium\n",
      "  - Load Balancer SKU: standard\n",
      "  - Network Dataplane: cilium\n",
      "  - Outbound Type: managedNATGateway\n",
      "  - Pod CIDR: 10.244.0.0/16\n",
      "  - Service CIDR: 10.0.0.0/16\n",
      "  - DNS Service IP: 10.0.0.10\n",
      "\n",
      "If you need further details on specific aspects of these clusters, please let me know!\n",
      "==================================================\n"
     ]
    }
   ],
   "source": [
    "# Test: Cluster discovery\n",
    "await ask_assistant(\"What AKS clusters do I have? Please provide a comprehensive overview.\")"
   ]
  },
  {
   "cell_type": "code",
   "execution_count": 74,
   "metadata": {},
   "outputs": [
    {
     "name": "stdout",
     "output_type": "stream",
     "text": [
      "🙋 Question: What diagnostic detectors are available? Discover my clusters first, then list detectors.\n",
      "--------------------------------------------------\n",
      "### Available Diagnostic Detectors\n",
      "\n",
      "#### Cluster: `hub`\n",
      "- **Active Live Site Incidents:** Single source of reference for any active live site incidents.  \n",
      "  Category: Cluster and Control Plane Availability and Performance\n",
      "- **Pod CIDR out of IP Ranges:** Checks for cluster nodes that were not able to be assigned an IP range due to the pod CIDR running out of IP ranges.  \n",
      "  Category: Node Health\n",
      "- **AKS Operation Troubleshooter:** Checks for a failing operation ID then displays the summary and customer mitigation for that error type.  \n",
      "  Category: Workflow Nodes\n",
      "- **AKS-managed AAD Integration Issues:** Detects any issues with AKS-managed AAD integration for operator access.  \n",
      "  Category: Identity and Security\n",
      "- **API Server - Resource Intensive Listing:** Detect potential API Server load issues that stem from large and or inefficient listing patterns.  \n",
      "  Category: Cluster and Control Plane Availability and Performance\n",
      "- **API Server Authorized Ranges:** Shows if the cluster is configured to use authorized IP address ranges for limiting access to the API server.  \n",
      "  Category: Connectivity Issues\n",
      "- **Auto-Update Configuration Check:** Checks that the cluster has either the auto-upgrade turned on or has Kured installed.  \n",
      "  Category: Best Practices\n",
      "- **Availability Risk Alerts:** Checks for common issues that can affect the availability of AKS clusters.  \n",
      "  Category: Risk Alerts\n",
      "- **Azure File Creation Issues:** Designed to detect Azure Files creation failures.  \n",
      "  Category: Storage\n",
      "- **Azure KeyVault KMS Integration Issues:** Detects any issues with Azure KeyVault KMS integration for operator access.  \n",
      "  Category: Identity and Security\n",
      "- **Azure Linux Image Version:** Checks the cluster agent pools are using the correct Azure Linux version.  \n",
      "  Category: Best Practices\n",
      "- **Azure Resource Request Throttling:** Shows if the cluster has experienced any Azure Resource Manager (ARM), or Resource Provider (RP) request rate throttling.  \n",
      "  Category: Cluster and Control Plane Availability and Performance\n",
      "- **Best Practices:** Checks that your cluster conforms to the current AKS best practices.  \n",
      "  Category: Best Practices\n",
      "- **Blob Add-On and Blob Open-Source Driver Conflict:** Detects if a cluster has both blob add-on and the open-source blob driver.  \n",
      "  Category: Storage\n",
      "- **Client Service Principal:** Detects if a cluster's service principal is invalid or expired.  \n",
      "  Category: Identity and Security\n",
      "\n",
      "... and many more.\n",
      "\n",
      "#### Cluster: `akskeda-aks`\n",
      "- **Active Live Site Incidents:** Single source of reference for any active live site incidents.  \n",
      "  Category: Cluster and Control Plane Availability and Performance\n",
      "- **Pod CIDR out of IP Ranges:** Checks for cluster nodes that were not able to be assigned an IP range due to the pod CIDR running out of IP ranges.  \n",
      "  Category: Node Health\n",
      "- **AKS Operation Troubleshooter:** Checks for a failing operation ID then displays the summary and customer mitigation for that error type.  \n",
      "  Category: Workflow Nodes\n",
      "- **AKS-managed AAD Integration Issues:** Detects any issues with AKS-managed AAD integration for operator access.  \n",
      "  Category: Identity and Security\n",
      "- **API Server - Resource Intensive Listing:** Detect potential API Server load issues that stem from large and or inefficient listing patterns.  \n",
      "  Category: Cluster and Control Plane Availability and Performance\n",
      "- **API Server Authorized Ranges:** Shows if the cluster is configured to use authorized IP address ranges for limiting access to the API server.  \n",
      "  Category: Connectivity Issues\n",
      "- **Auto-Update Configuration Check:** Checks that the cluster has either the auto-upgrade turned on or has Kured installed.  \n",
      "  Category: Best Practices\n",
      "- **Availability Risk Alerts:** Checks for common issues that can affect the availability of AKS clusters.  \n",
      "  Category: Risk Alerts\n",
      "- **Azure File Creation Issues:** Designed to detect Azure Files creation failures.  \n",
      "  Category: Storage\n",
      "- **Azure KeyVault KMS Integration Issues:** Detects any issues with Azure KeyVault KMS integration for operator access.  \n",
      "  Category: Identity and Security\n",
      "- **Azure Linux Image Version:** Checks the cluster agent pools are using the correct Azure Linux version.  \n",
      "  Category: Best Practices\n",
      "- **Azure Resource Request Throttling:** Shows if the cluster has experienced any Azure Resource Manager (ARM), or Resource Provider (RP) request rate throttling.  \n",
      "  Category: Cluster and Control Plane Availability and Performance\n",
      "- **Best Practices:** Checks that your cluster conforms to the current AKS best practices.  \n",
      "  Category: Best Practices\n",
      "- **Blob Add-On and Blob Open-Source Driver Conflict:** Detects if a cluster has both blob add-on and the open-source blob driver.  \n",
      "  Category: Storage\n",
      "- **Client Service Principal:** Detects if a cluster's service principal is invalid or expired.  \n",
      "  Category: Identity and Security\n",
      "\n",
      "... and many more.\n",
      "\n",
      "These detectors cover a wide range of categories such as Best Practices, Cluster and Control Plane Availability and Performance, Connectivity Issues, Identity and Security, Node Health, and Storage.\n",
      "==================================================\n"
     ]
    }
   ],
   "source": [
    "# Test: Diagnostic detectors\n",
    "await ask_assistant(\"What diagnostic detectors are available? Discover my clusters first, then list detectors.\")"
   ]
  },
  {
   "cell_type": "code",
   "execution_count": 75,
   "metadata": {},
   "outputs": [
    {
     "name": "stdout",
     "output_type": "stream",
     "text": [
      "🙋 Question: Analyze the workloads in my clusters. Find my clusters first, then check pods and services.\n",
      "--------------------------------------------------\n",
      "It appears that there are permission issues with accessing the credentials for your clusters, which is preventing further analysis of the workloads.\n",
      "\n",
      "Here is what I have tried so far:\n",
      "1. Listed the available clusters - successfully identified two clusters: `hub` and `akskeda-aks`.\n",
      "2. Attempted to retrieve pods and services details from both clusters using different methods, but encountered errors including permission issues when fetching the credentials.\n",
      "\n",
      "To successfully analyze workloads in your clusters, please ensure that the client account has the necessary permissions for accessing AKS cluster resources, particularly for listing cluster user credentials and running kubectl commands.\n",
      "\n",
      "If you need further assistance or have specific actions that should be directed differently, let me know!\n",
      "==================================================\n"
     ]
    }
   ],
   "source": [
    "# Test: Workload analysis\n",
    "await ask_assistant(\"Analyze the workloads in my clusters. Find my clusters first, then check pods and services.\")"
   ]
  },
  {
   "cell_type": "code",
   "execution_count": 76,
   "metadata": {},
   "outputs": [
    {
     "name": "stdout",
     "output_type": "stream",
     "text": [
      "🙋 Question: Tell me about the network configuration and suggest improvements.\n",
      "--------------------------------------------------\n",
      "Based on the network configurations of the two AKS clusters (\"hub\" in \"FL_hieunhu_testhubfleet1_eastasia\" and \"akskeda-aks\" in \"akskeda-rg\"), here is the detailed information and some recommendations for improvement:\n",
      "\n",
      "### Network Configuration Details:\n",
      "\n",
      "#### Cluster: \"hub\"\n",
      "\n",
      "1. **Load Balancer**:\n",
      "   - **Backend Address Pools**: Utilizes two backend pools for outbound and cluster services.\n",
      "   - **Frontend IP Configurations**: Configured with a dynamic IP allocation and a standard public IP.\n",
      "   - **Outbound Rules**: Configured with an outbound rule enabling outbound traffic with TCP reset and specific idle timeout.\n",
      "\n",
      "2. **Network Security Group (NSG)**:\n",
      "   - **Default Security Rules**: Includes standard rules allowing VNet traffic, Azure Load Balancer traffic, and denying all inbound/outbound traffic except for Internet outbound.\n",
      "   - **Custom Rules**: No additional custom rules found.\n",
      "\n",
      "3. **Virtual Network (VNet) and Subnet**:\n",
      "   - **VNet**: Configured with an address space of `10.224.0.0/12`.\n",
      "   - **Subnet**: Configured with a subnet `aks-subnet` with an address prefix of `10.224.0.0/16`. The subnet is associated with the appropriate NSG and contains multiple IP configurations.\n",
      "\n",
      "#### Cluster: \"akskeda-aks\"\n",
      "\n",
      "1. **Load Balancer**:\n",
      "   - **Backend Address Pools**: Utilizes backend pools for balancing various backend IP configurations.\n",
      "   - **Frontend IP Configurations**: Configured with dynamic IP allocation and public IP addresses.\n",
      "   - **Inbound Rules**: Several load balancing rules for ports 80, 443, 7473, 7474, and 7687. Probes configured for health checks.\n",
      "\n",
      "2. **Network Security Group (NSG)**:\n",
      "   - **Default Security Rules**: Includes standard rules similar to the \"hub\" cluster.\n",
      "   - **Custom Rules**: Custom rules to allow specific inbound traffic from the Internet to the load balancer and respective ports.\n",
      "\n",
      "3. **Virtual Network (VNet) and Subnet**:\n",
      "   - **VNet**: Configured with an address space of `10.224.0.0/12`.\n",
      "   - **Subnets**: Includes subnets `aks-subnet` and `aks-apiserver-subnet`, both associated with appropriate NSGs and link services.\n",
      "   - **NAT Gateway**: Configured in `aks-subnet` for outbound connectivity.\n",
      "\n",
      "### Recommendations for Improvement:\n",
      "\n",
      "1. **Enable Network Policies**:\n",
      "   - Implement network policies to control traffic flow between pods and services within the cluster. This can enhance security by ensuring that only authorized traffic is allowed.\n",
      "\n",
      "2. **IP Ranges for API Server Access**:\n",
      "   - Define `authorizedIpRanges` in the `apiServerAccessProfile` to restrict access to the API Server, ensuring that only trusted IP addresses can reach the Kubernetes API.\n",
      "\n",
      "3. **Utilize Private Endpoints**:\n",
      "   - Consider configuring private endpoints for your API Server and other critical services. This can limit exposure to the public internet and enhance the security of your cluster.\n",
      "\n",
      "4. **Dedicated Route Table**:\n",
      "   - Implement a dedicated route table with specific routing rules to manage traffic flows within the VNet more effectively. This can be beneficial if you plan to use advanced networking features or integrate with other Azure services.\n",
      "\n",
      "5. **Review NSG Rules**:\n",
      "   - Regularly review and update NSG rules to ensure they adhere to the principle of least privilege. Remove or tighten any rules that allow unnecessary traffic.\n",
      "\n",
      "6. **Advanced Load Balancing**:\n",
      "   - Use multiple standard load balancers and customize idle timeouts and protocols based on the specific needs of your applications.\n",
      "\n",
      "7. **Network Monitoring**:\n",
      "   - Enable and configure Azure Network Watcher to monitor and diagnose network issues. This can provide insights into network performance and help detect and resolve issues quickly.\n",
      "\n",
      "By implementing these recommendations, you can enhance the security, performance, and reliability of your AKS clusters.\n",
      "==================================================\n"
     ]
    }
   ],
   "source": [
    "# Custom question\n",
    "await ask_assistant(\"Tell me about the network configuration and suggest improvements.\")"
   ]
  },
  {
   "cell_type": "code",
   "execution_count": 77,
   "metadata": {},
   "outputs": [
    {
     "name": "stdout",
     "output_type": "stream",
     "text": [
      "⚠️ Cleanup warning: Attempted to exit cancel scope in a different task than it was entered in\n",
      "✅ Demo complete\n"
     ]
    }
   ],
   "source": [
    "# Cleanup\n",
    "try:\n",
    "    await mcp_plugin.close()\n",
    "    print(\"✅ MCP plugin disconnected\")\n",
    "except Exception as e:\n",
    "    print(f\"⚠️ Cleanup warning: {e}\")\n",
    "    \n",
    "print(\"✅ Demo complete\")"
   ]
  }
 ],
 "metadata": {
  "kernelspec": {
   "display_name": "Python 3",
   "language": "python",
   "name": "python3"
  },
  "language_info": {
   "name": "python",
   "version": "3.8.0"
  }
 },
 "nbformat": 4,
 "nbformat_minor": 4
}
